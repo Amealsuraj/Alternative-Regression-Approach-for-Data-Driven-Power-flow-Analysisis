{
 "cells": [
  {
   "cell_type": "code",
   "execution_count": 1,
   "metadata": {},
   "outputs": [
    {
     "name": "stderr",
     "output_type": "stream",
     "text": [
      "Using TensorFlow backend.\n"
     ]
    }
   ],
   "source": [
    "#importing libraries\n",
    "import pandas as pd\n",
    "import numpy as np\n",
    "import sklearn\n",
    "import keras\n",
    "import matplotlib.pyplot as plt\n",
    "import tensorflow as tf\n",
    "from tensorflow. keras.models import Sequential,Model,save_model,load_model\n",
    "import pickle\n",
    "import os"
   ]
  },
  {
   "cell_type": "code",
   "execution_count": null,
   "metadata": {},
   "outputs": [],
   "source": [
    "case_name ='case118'\n",
    "data_size = 800;\n",
    "address = 'train_data/' + case_name+'/'+str(data_size)+'/Scaled/'\n",
    "P = pd.read_csv(address +'P.csv', header = None)\n",
    "Q = pd.read_csv(address+'Q.csv', header = None)\n",
    "V = pd.read_csv( address+'V.csv', header = None)\n",
    "Va = pd.read_csv(address+'Va.csv', header = None)\n",
    "I= pd.read_csv(address+'I.csv', header = None)\n",
    "Ia = pd.read_csv(address+'Ia.csv', header = None)\n",
    "num_train = P.shape[0]\n",
    "num_bus = P.shape[1]"
   ]
  },
  {
   "cell_type": "code",
   "execution_count": null,
   "metadata": {},
   "outputs": [],
   "source": [
    "X = pd.concat([P,Q,I,Ia],axis=1)\n",
    "Y1 = pd.concat([V],axis=1)\n",
    "Y2 = pd.concat([Va],axis=1)"
   ]
  }
 ],
 "metadata": {
  "kernelspec": {
   "display_name": "Python 3.7.6 64-bit",
   "language": "python",
   "name": "python37664bitb7ef01e1b2504f26a1a82f9a84a315be"
  },
  "language_info": {
   "codemirror_mode": {
    "name": "ipython",
    "version": 3
   },
   "file_extension": ".py",
   "mimetype": "text/x-python",
   "name": "python",
   "nbconvert_exporter": "python",
   "pygments_lexer": "ipython3",
   "version": "3.7.9"
  }
 },
 "nbformat": 4,
 "nbformat_minor": 4
}
