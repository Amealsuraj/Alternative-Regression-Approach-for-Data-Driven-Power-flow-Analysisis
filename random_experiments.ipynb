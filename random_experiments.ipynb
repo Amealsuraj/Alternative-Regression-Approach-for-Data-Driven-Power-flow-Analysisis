{
 "cells": [
  {
   "cell_type": "code",
   "execution_count": 1,
   "metadata": {
    "executionInfo": {
     "elapsed": 4752,
     "status": "ok",
     "timestamp": 1615267502230,
     "user": {
      "displayName": "GOPAL JAIN",
      "photoUrl": "https://lh3.googleusercontent.com/a-/AOh14GjBWLalC1TXnFY7M42yBOhJVy-VTt2oWCF8kv1rUw=s64",
      "userId": "07748152305612185938"
     },
     "user_tz": -330
    },
    "id": "dh7UtsbuIHdL"
   },
   "outputs": [],
   "source": [
    "#importing libraries\n",
    "import pandas as pd\n",
    "import numpy as np\n",
    "import sklearn\n",
    "#import keras\n",
    "import matplotlib.pyplot as plt\n",
    "import tensorflow as tf"
   ]
  },
  {
   "cell_type": "code",
   "execution_count": 2,
   "metadata": {
    "executionInfo": {
     "elapsed": 23057,
     "status": "ok",
     "timestamp": 1615267527976,
     "user": {
      "displayName": "GOPAL JAIN",
      "photoUrl": "https://lh3.googleusercontent.com/a-/AOh14GjBWLalC1TXnFY7M42yBOhJVy-VTt2oWCF8kv1rUw=s64",
      "userId": "07748152305612185938"
     },
     "user_tz": -330
    },
    "id": "Lz1Ap2hgIMlU"
   },
   "outputs": [],
   "source": [
    "#Do this just once - No need to do any more\n",
    "!pip install -U -q PyDrive\n",
    "from pydrive.auth import GoogleAuth\n",
    "from pydrive.drive import GoogleDrive\n",
    "from google.colab import auth\n",
    "from oauth2client.client import GoogleCredentials \n",
    "#Authenticate and create the PyDrive client.\n",
    "\n",
    "\n",
    "auth.authenticate_user()\n",
    "gauth = GoogleAuth()\n",
    "gauth.credentials = GoogleCredentials.get_application_default()\n",
    "drive = GoogleDrive(gauth)\n",
    "\n",
    " "
   ]
  },
  {
   "cell_type": "code",
   "execution_count": 3,
   "metadata": {
    "executionInfo": {
     "elapsed": 7356,
     "status": "ok",
     "timestamp": 1615267536268,
     "user": {
      "displayName": "GOPAL JAIN",
      "photoUrl": "https://lh3.googleusercontent.com/a-/AOh14GjBWLalC1TXnFY7M42yBOhJVy-VTt2oWCF8kv1rUw=s64",
      "userId": "07748152305612185938"
     },
     "user_tz": -330
    },
    "id": "vrCfERrSIP57"
   },
   "outputs": [],
   "source": [
    "id = \"1EcWRAgZcqNwH9g9Ko-TkZvAZQSaTeZOu\" # 30P\n",
    "downloaded = drive.CreateFile({'id':id}) \n",
    "downloaded.GetContentFile('30P.csv')  \n",
    "P = pd.read_csv('30P.csv', header=None)\n",
    "\n",
    "id = \"1pfx3L4ivHItHUlgvQKlmZZPVWS14rt81\" # 30Q\n",
    "downloaded = drive.CreateFile({'id':id}) \n",
    "downloaded.GetContentFile('30Q.csv')  \n",
    "Q = pd.read_csv('30Q.csv', header=None)\n",
    "\n",
    "id = \"1Dq9lxJ5AI-IzX2lSmeENdV7iUvWam4Ev\" # 30V\n",
    "downloaded = drive.CreateFile({'id':id}) \n",
    "downloaded.GetContentFile('30V.csv')  \n",
    "V = pd.read_csv('30V.csv', header=None)\n",
    "\n",
    "id = \"1P1h6FFRnFN0YyXP9S-4nJt5uYVV_KaIf\" # 30Va\n",
    "downloaded = drive.CreateFile({'id':id}) \n",
    "downloaded.GetContentFile('30Va.csv') \n",
    "Va = pd.read_csv('30Va.csv', header=None)"
   ]
  },
  {
   "cell_type": "code",
   "execution_count": null,
   "metadata": {
    "colab": {
     "base_uri": "https://localhost:8080/"
    },
    "executionInfo": {
     "elapsed": 1287,
     "status": "ok",
     "timestamp": 1615178350887,
     "user": {
      "displayName": "GOPAL JAIN",
      "photoUrl": "https://lh3.googleusercontent.com/a-/AOh14GjBWLalC1TXnFY7M42yBOhJVy-VTt2oWCF8kv1rUw=s64",
      "userId": "07748152305612185938"
     },
     "user_tz": -330
    },
    "id": "k1BbMQiMIY6b",
    "outputId": "16f5c010-1ab1-4cfa-fe64-4c3356c22fb9"
   },
   "outputs": [
    {
     "name": "stdout",
     "output_type": "stream",
     "text": [
      "(500, 30)\n",
      "(500, 30)\n",
      "(500, 30)\n",
      "(500, 30)\n"
     ]
    }
   ],
   "source": [
    "print(P.shape)\n",
    "print(Q.shape)\n",
    "print(V.shape)\n",
    "print(Va.shape)"
   ]
  },
  {
   "cell_type": "code",
   "execution_count": null,
   "metadata": {
    "id": "t6PozIU7Ibv7"
   },
   "outputs": [],
   "source": [
    "num_train = P.shape[0]\n",
    "num_bus = P.shape[1]\n",
    "\n",
    "\n",
    "pi = 3.141592\n",
    "Y = P.join(Q, lsuffix='_P', rsuffix='_Q')\n",
    "X = Va.join(V, lsuffix='_V', rsuffix='_Va')\n",
    "#Va = Va*pi/180"
   ]
  },
  {
   "cell_type": "code",
   "execution_count": null,
   "metadata": {
    "id": "jBBC73q0Ieyb"
   },
   "outputs": [],
   "source": [
    "from sklearn.linear_model import LinearRegression\n",
    "from sklearn.model_selection import cross_val_score"
   ]
  },
  {
   "cell_type": "code",
   "execution_count": null,
   "metadata": {
    "colab": {
     "base_uri": "https://localhost:8080/"
    },
    "executionInfo": {
     "elapsed": 1349,
     "status": "ok",
     "timestamp": 1615178434329,
     "user": {
      "displayName": "GOPAL JAIN",
      "photoUrl": "https://lh3.googleusercontent.com/a-/AOh14GjBWLalC1TXnFY7M42yBOhJVy-VTt2oWCF8kv1rUw=s64",
      "userId": "07748152305612185938"
     },
     "user_tz": -330
    },
    "id": "Qn33OUw0Ijz7",
    "outputId": "002da381-e9ad-4af0-b79f-27c6b5d80ff1"
   },
   "outputs": [
    {
     "data": {
      "text/plain": [
       "(30, 60)"
      ]
     },
     "execution_count": 9,
     "metadata": {
      "tags": []
     },
     "output_type": "execute_result"
    }
   ],
   "source": [
    "ols = LinearRegression()\n",
    "ols.fit(X,P)\n",
    "ols.coef_.shape"
   ]
  },
  {
   "cell_type": "code",
   "execution_count": null,
   "metadata": {
    "colab": {
     "base_uri": "https://localhost:8080/"
    },
    "executionInfo": {
     "elapsed": 1477,
     "status": "ok",
     "timestamp": 1615178460924,
     "user": {
      "displayName": "GOPAL JAIN",
      "photoUrl": "https://lh3.googleusercontent.com/a-/AOh14GjBWLalC1TXnFY7M42yBOhJVy-VTt2oWCF8kv1rUw=s64",
      "userId": "07748152305612185938"
     },
     "user_tz": -330
    },
    "id": "V7Bi-eWNIqVr",
    "outputId": "425dba11-106d-4def-d012-bf4081d0146d"
   },
   "outputs": [
    {
     "data": {
      "text/plain": [
       "(30,)"
      ]
     },
     "execution_count": 10,
     "metadata": {
      "tags": []
     },
     "output_type": "execute_result"
    }
   ],
   "source": [
    "ols.intercept_.shape"
   ]
  },
  {
   "cell_type": "code",
   "execution_count": null,
   "metadata": {
    "colab": {
     "base_uri": "https://localhost:8080/"
    },
    "executionInfo": {
     "elapsed": 1237,
     "status": "ok",
     "timestamp": 1615178471822,
     "user": {
      "displayName": "GOPAL JAIN",
      "photoUrl": "https://lh3.googleusercontent.com/a-/AOh14GjBWLalC1TXnFY7M42yBOhJVy-VTt2oWCF8kv1rUw=s64",
      "userId": "07748152305612185938"
     },
     "user_tz": -330
    },
    "id": "4j0Jvsr-I2YL",
    "outputId": "cec493b3-c3a7-4442-84f2-28654b360fe4"
   },
   "outputs": [
    {
     "data": {
      "text/plain": [
       "array([ 4.04630250e+00,  7.77715583e+00, -2.73952756e-01, -1.10148450e+00,\n",
       "        0.00000000e+00,  0.00000000e+00, -2.38405175e+00,  5.26270073e+00,\n",
       "        0.00000000e+00, -2.35738370e+00,  0.00000000e+00,  2.04033333e-03,\n",
       "       -3.31501002e-01,  7.34324344e-01, -1.41514994e+00,  4.38397693e-01,\n",
       "        8.26452184e-01,  2.74325265e-01, -4.54260508e-01, -4.09619494e-02,\n",
       "       -1.96556695e+01,  2.52317856e+01,  3.23785511e+00, -1.94705698e+00,\n",
       "        0.00000000e+00, -3.03040792e-01,  8.86085370e-01,  0.00000000e+00,\n",
       "       -1.29104755e+00,  9.07025191e+00])"
      ]
     },
     "execution_count": 11,
     "metadata": {
      "tags": []
     },
     "output_type": "execute_result"
    }
   ],
   "source": [
    "ols.intercept_"
   ]
  },
  {
   "cell_type": "code",
   "execution_count": null,
   "metadata": {
    "id": "1mutr0znI5Sa"
   },
   "outputs": [],
   "source": [
    "coef = pd.DataFrame(ols.coef_)\n",
    "intercept = pd.DataFrame(ols.intercept_)"
   ]
  },
  {
   "cell_type": "code",
   "execution_count": null,
   "metadata": {
    "colab": {
     "base_uri": "https://localhost:8080/"
    },
    "executionInfo": {
     "elapsed": 1301,
     "status": "ok",
     "timestamp": 1615178644598,
     "user": {
      "displayName": "GOPAL JAIN",
      "photoUrl": "https://lh3.googleusercontent.com/a-/AOh14GjBWLalC1TXnFY7M42yBOhJVy-VTt2oWCF8kv1rUw=s64",
      "userId": "07748152305612185938"
     },
     "user_tz": -330
    },
    "id": "GHJmtNCUJfQa",
    "outputId": "e00fa7f9-2638-4e07-8865-a67514a2c302"
   },
   "outputs": [
    {
     "name": "stdout",
     "output_type": "stream",
     "text": [
      "(30, 60)\n",
      "(30, 1)\n"
     ]
    }
   ],
   "source": [
    "print(coef.shape)\n",
    "print(intercept.shape)"
   ]
  },
  {
   "cell_type": "code",
   "execution_count": null,
   "metadata": {
    "colab": {
     "base_uri": "https://localhost:8080/",
     "height": 306
    },
    "executionInfo": {
     "elapsed": 1319,
     "status": "error",
     "timestamp": 1615178745278,
     "user": {
      "displayName": "GOPAL JAIN",
      "photoUrl": "https://lh3.googleusercontent.com/a-/AOh14GjBWLalC1TXnFY7M42yBOhJVy-VTt2oWCF8kv1rUw=s64",
      "userId": "07748152305612185938"
     },
     "user_tz": -330
    },
    "id": "tFax_4LDJjNa",
    "outputId": "96c730ff-fa1f-406f-c7d8-8c0d26f6c38e"
   },
   "outputs": [
    {
     "ename": "ValueError",
     "evalue": "ignored",
     "output_type": "error",
     "traceback": [
      "\u001b[0;31m---------------------------------------------------------------------------\u001b[0m",
      "\u001b[0;31mValueError\u001b[0m                                Traceback (most recent call last)",
      "\u001b[0;32m<ipython-input-14-ef10233dc3f0>\u001b[0m in \u001b[0;36m<module>\u001b[0;34m()\u001b[0m\n\u001b[0;32m----> 1\u001b[0;31m \u001b[0mparam\u001b[0m \u001b[0;34m=\u001b[0m \u001b[0mcoef\u001b[0m\u001b[0;34m.\u001b[0m\u001b[0mjoin\u001b[0m\u001b[0;34m(\u001b[0m\u001b[0mintercept\u001b[0m\u001b[0;34m)\u001b[0m\u001b[0;34m\u001b[0m\u001b[0;34m\u001b[0m\u001b[0m\n\u001b[0m",
      "\u001b[0;32m/usr/local/lib/python3.7/dist-packages/pandas/core/frame.py\u001b[0m in \u001b[0;36mjoin\u001b[0;34m(self, other, on, how, lsuffix, rsuffix, sort)\u001b[0m\n\u001b[1;32m   7873\u001b[0m         \"\"\"\n\u001b[1;32m   7874\u001b[0m         return self._join_compat(\n\u001b[0;32m-> 7875\u001b[0;31m             \u001b[0mother\u001b[0m\u001b[0;34m,\u001b[0m \u001b[0mon\u001b[0m\u001b[0;34m=\u001b[0m\u001b[0mon\u001b[0m\u001b[0;34m,\u001b[0m \u001b[0mhow\u001b[0m\u001b[0;34m=\u001b[0m\u001b[0mhow\u001b[0m\u001b[0;34m,\u001b[0m \u001b[0mlsuffix\u001b[0m\u001b[0;34m=\u001b[0m\u001b[0mlsuffix\u001b[0m\u001b[0;34m,\u001b[0m \u001b[0mrsuffix\u001b[0m\u001b[0;34m=\u001b[0m\u001b[0mrsuffix\u001b[0m\u001b[0;34m,\u001b[0m \u001b[0msort\u001b[0m\u001b[0;34m=\u001b[0m\u001b[0msort\u001b[0m\u001b[0;34m\u001b[0m\u001b[0;34m\u001b[0m\u001b[0m\n\u001b[0m\u001b[1;32m   7876\u001b[0m         )\n\u001b[1;32m   7877\u001b[0m \u001b[0;34m\u001b[0m\u001b[0m\n",
      "\u001b[0;32m/usr/local/lib/python3.7/dist-packages/pandas/core/frame.py\u001b[0m in \u001b[0;36m_join_compat\u001b[0;34m(self, other, on, how, lsuffix, rsuffix, sort)\u001b[0m\n\u001b[1;32m   7896\u001b[0m                 \u001b[0mright_index\u001b[0m\u001b[0;34m=\u001b[0m\u001b[0;32mTrue\u001b[0m\u001b[0;34m,\u001b[0m\u001b[0;34m\u001b[0m\u001b[0;34m\u001b[0m\u001b[0m\n\u001b[1;32m   7897\u001b[0m                 \u001b[0msuffixes\u001b[0m\u001b[0;34m=\u001b[0m\u001b[0;34m(\u001b[0m\u001b[0mlsuffix\u001b[0m\u001b[0;34m,\u001b[0m \u001b[0mrsuffix\u001b[0m\u001b[0;34m)\u001b[0m\u001b[0;34m,\u001b[0m\u001b[0;34m\u001b[0m\u001b[0;34m\u001b[0m\u001b[0m\n\u001b[0;32m-> 7898\u001b[0;31m                 \u001b[0msort\u001b[0m\u001b[0;34m=\u001b[0m\u001b[0msort\u001b[0m\u001b[0;34m,\u001b[0m\u001b[0;34m\u001b[0m\u001b[0;34m\u001b[0m\u001b[0m\n\u001b[0m\u001b[1;32m   7899\u001b[0m             )\n\u001b[1;32m   7900\u001b[0m         \u001b[0;32melse\u001b[0m\u001b[0;34m:\u001b[0m\u001b[0;34m\u001b[0m\u001b[0;34m\u001b[0m\u001b[0m\n",
      "\u001b[0;32m/usr/local/lib/python3.7/dist-packages/pandas/core/reshape/merge.py\u001b[0m in \u001b[0;36mmerge\u001b[0;34m(left, right, how, on, left_on, right_on, left_index, right_index, sort, suffixes, copy, indicator, validate)\u001b[0m\n\u001b[1;32m     87\u001b[0m         \u001b[0mvalidate\u001b[0m\u001b[0;34m=\u001b[0m\u001b[0mvalidate\u001b[0m\u001b[0;34m,\u001b[0m\u001b[0;34m\u001b[0m\u001b[0;34m\u001b[0m\u001b[0m\n\u001b[1;32m     88\u001b[0m     )\n\u001b[0;32m---> 89\u001b[0;31m     \u001b[0;32mreturn\u001b[0m \u001b[0mop\u001b[0m\u001b[0;34m.\u001b[0m\u001b[0mget_result\u001b[0m\u001b[0;34m(\u001b[0m\u001b[0;34m)\u001b[0m\u001b[0;34m\u001b[0m\u001b[0;34m\u001b[0m\u001b[0m\n\u001b[0m\u001b[1;32m     90\u001b[0m \u001b[0;34m\u001b[0m\u001b[0m\n\u001b[1;32m     91\u001b[0m \u001b[0;34m\u001b[0m\u001b[0m\n",
      "\u001b[0;32m/usr/local/lib/python3.7/dist-packages/pandas/core/reshape/merge.py\u001b[0m in \u001b[0;36mget_result\u001b[0;34m(self)\u001b[0m\n\u001b[1;32m    669\u001b[0m \u001b[0;34m\u001b[0m\u001b[0m\n\u001b[1;32m    670\u001b[0m         llabels, rlabels = _items_overlap_with_suffix(\n\u001b[0;32m--> 671\u001b[0;31m             \u001b[0mself\u001b[0m\u001b[0;34m.\u001b[0m\u001b[0mleft\u001b[0m\u001b[0;34m.\u001b[0m\u001b[0m_info_axis\u001b[0m\u001b[0;34m,\u001b[0m \u001b[0mself\u001b[0m\u001b[0;34m.\u001b[0m\u001b[0mright\u001b[0m\u001b[0;34m.\u001b[0m\u001b[0m_info_axis\u001b[0m\u001b[0;34m,\u001b[0m \u001b[0mself\u001b[0m\u001b[0;34m.\u001b[0m\u001b[0msuffixes\u001b[0m\u001b[0;34m\u001b[0m\u001b[0;34m\u001b[0m\u001b[0m\n\u001b[0m\u001b[1;32m    672\u001b[0m         )\n\u001b[1;32m    673\u001b[0m \u001b[0;34m\u001b[0m\u001b[0m\n",
      "\u001b[0;32m/usr/local/lib/python3.7/dist-packages/pandas/core/reshape/merge.py\u001b[0m in \u001b[0;36m_items_overlap_with_suffix\u001b[0;34m(left, right, suffixes)\u001b[0m\n\u001b[1;32m   2094\u001b[0m \u001b[0;34m\u001b[0m\u001b[0m\n\u001b[1;32m   2095\u001b[0m     \u001b[0;32mif\u001b[0m \u001b[0;32mnot\u001b[0m \u001b[0mlsuffix\u001b[0m \u001b[0;32mand\u001b[0m \u001b[0;32mnot\u001b[0m \u001b[0mrsuffix\u001b[0m\u001b[0;34m:\u001b[0m\u001b[0;34m\u001b[0m\u001b[0;34m\u001b[0m\u001b[0m\n\u001b[0;32m-> 2096\u001b[0;31m         \u001b[0;32mraise\u001b[0m \u001b[0mValueError\u001b[0m\u001b[0;34m(\u001b[0m\u001b[0;34mf\"columns overlap but no suffix specified: {to_rename}\"\u001b[0m\u001b[0;34m)\u001b[0m\u001b[0;34m\u001b[0m\u001b[0;34m\u001b[0m\u001b[0m\n\u001b[0m\u001b[1;32m   2097\u001b[0m \u001b[0;34m\u001b[0m\u001b[0m\n\u001b[1;32m   2098\u001b[0m     \u001b[0;32mdef\u001b[0m \u001b[0mrenamer\u001b[0m\u001b[0;34m(\u001b[0m\u001b[0mx\u001b[0m\u001b[0;34m,\u001b[0m \u001b[0msuffix\u001b[0m\u001b[0;34m)\u001b[0m\u001b[0;34m:\u001b[0m\u001b[0;34m\u001b[0m\u001b[0;34m\u001b[0m\u001b[0m\n",
      "\u001b[0;31mValueError\u001b[0m: columns overlap but no suffix specified: RangeIndex(start=0, stop=1, step=1)"
     ]
    }
   ],
   "source": [
    "param = coef.join(intercept)"
   ]
  },
  {
   "cell_type": "code",
   "execution_count": null,
   "metadata": {
    "id": "SHJZrQT4J7zr"
   },
   "outputs": [],
   "source": [
    "import numpy as np\n",
    "from sklearn.linear_model import ARDRegression\n",
    "import pandas as pd\n",
    "\n",
    "X = Va.join(V, lsuffix='_Va', rsuffix='_V')\n",
    "Y = P.join(Q, lsuffix='_P', rsuffix='_Q')\n",
    "\n",
    "X_row,X_col = X.shape\n",
    "Y_row,Y_col = Y.shape"
   ]
  },
  {
   "cell_type": "code",
   "execution_count": null,
   "metadata": {
    "colab": {
     "base_uri": "https://localhost:8080/"
    },
    "executionInfo": {
     "elapsed": 3206,
     "status": "ok",
     "timestamp": 1615183295729,
     "user": {
      "displayName": "GOPAL JAIN",
      "photoUrl": "https://lh3.googleusercontent.com/a-/AOh14GjBWLalC1TXnFY7M42yBOhJVy-VTt2oWCF8kv1rUw=s64",
      "userId": "07748152305612185938"
     },
     "user_tz": -330
    },
    "id": "laVeGuJUKVt7",
    "outputId": "81eadae8-c7d8-4bb8-d206-73ba89de67cc"
   },
   "outputs": [
    {
     "data": {
      "text/plain": [
       "ARDRegression(alpha_1=1e-06, alpha_2=1e-06, compute_score=False, copy_X=True,\n",
       "              fit_intercept=True, lambda_1=1e-06, lambda_2=1e-06, n_iter=300,\n",
       "              normalize=False, threshold_lambda=10000.0, tol=0.001,\n",
       "              verbose=False)"
      ]
     },
     "execution_count": 6,
     "metadata": {
      "tags": []
     },
     "output_type": "execute_result"
    }
   ],
   "source": [
    "clf = ARDRegression()\n",
    "clf.fit(X,P.iloc[:,0])"
   ]
  },
  {
   "cell_type": "code",
   "execution_count": null,
   "metadata": {
    "colab": {
     "base_uri": "https://localhost:8080/"
    },
    "executionInfo": {
     "elapsed": 2870,
     "status": "ok",
     "timestamp": 1615183295730,
     "user": {
      "displayName": "GOPAL JAIN",
      "photoUrl": "https://lh3.googleusercontent.com/a-/AOh14GjBWLalC1TXnFY7M42yBOhJVy-VTt2oWCF8kv1rUw=s64",
      "userId": "07748152305612185938"
     },
     "user_tz": -330
    },
    "id": "yDGhpydZKYZT",
    "outputId": "e7af2e01-1ec1-47dd-d442-29376c874d30"
   },
   "outputs": [
    {
     "data": {
      "text/plain": [
       "(500,)"
      ]
     },
     "execution_count": 7,
     "metadata": {
      "tags": []
     },
     "output_type": "execute_result"
    }
   ],
   "source": [
    "P.iloc[:,0].shape"
   ]
  },
  {
   "cell_type": "code",
   "execution_count": null,
   "metadata": {
    "colab": {
     "base_uri": "https://localhost:8080/"
    },
    "executionInfo": {
     "elapsed": 2543,
     "status": "ok",
     "timestamp": 1615183295731,
     "user": {
      "displayName": "GOPAL JAIN",
      "photoUrl": "https://lh3.googleusercontent.com/a-/AOh14GjBWLalC1TXnFY7M42yBOhJVy-VTt2oWCF8kv1rUw=s64",
      "userId": "07748152305612185938"
     },
     "user_tz": -330
    },
    "id": "XC869K5uLE3i",
    "outputId": "2422d6b4-0b56-4428-889d-b27ba5192c93"
   },
   "outputs": [
    {
     "data": {
      "text/plain": [
       "(60,)"
      ]
     },
     "execution_count": 8,
     "metadata": {
      "tags": []
     },
     "output_type": "execute_result"
    }
   ],
   "source": [
    "clf.coef_.shape"
   ]
  },
  {
   "cell_type": "code",
   "execution_count": null,
   "metadata": {
    "colab": {
     "base_uri": "https://localhost:8080/"
    },
    "executionInfo": {
     "elapsed": 2186,
     "status": "ok",
     "timestamp": 1615183295732,
     "user": {
      "displayName": "GOPAL JAIN",
      "photoUrl": "https://lh3.googleusercontent.com/a-/AOh14GjBWLalC1TXnFY7M42yBOhJVy-VTt2oWCF8kv1rUw=s64",
      "userId": "07748152305612185938"
     },
     "user_tz": -330
    },
    "id": "kqEFn1hBYn_T",
    "outputId": "01f722db-1713-428f-b34a-5f924f898ab5"
   },
   "outputs": [
    {
     "data": {
      "text/plain": [
       "array([ 0.        ,  0.        , -0.31088362,  0.        ,  0.        ,\n",
       "        0.        ,  0.        ,  0.        ,  0.        ,  0.        ,\n",
       "        0.        ,  0.        ,  0.        ,  0.        ,  0.        ,\n",
       "        0.        ,  0.        ,  0.        ,  0.        ,  0.        ,\n",
       "        0.        ,  0.        ,  0.        ,  0.        ,  0.        ,\n",
       "        0.        ,  0.        ,  0.        ,  0.        ,  0.        ,\n",
       "        0.        ,  0.        , 11.51489416,  0.        ,  0.        ,\n",
       "        0.        ,  0.        ,  0.        ,  0.        ,  0.        ,\n",
       "        0.        ,  0.        ,  0.        ,  0.        ,  0.        ,\n",
       "        0.        ,  0.        ,  0.        ,  0.        ,  0.        ,\n",
       "        0.        ,  0.        ,  0.        ,  0.        ,  0.        ,\n",
       "        0.        ,  0.        ,  0.        ,  0.        ,  0.        ])"
      ]
     },
     "execution_count": 9,
     "metadata": {
      "tags": []
     },
     "output_type": "execute_result"
    }
   ],
   "source": [
    "clf.coef_"
   ]
  },
  {
   "cell_type": "code",
   "execution_count": null,
   "metadata": {
    "colab": {
     "base_uri": "https://localhost:8080/"
    },
    "executionInfo": {
     "elapsed": 731,
     "status": "ok",
     "timestamp": 1615183295733,
     "user": {
      "displayName": "GOPAL JAIN",
      "photoUrl": "https://lh3.googleusercontent.com/a-/AOh14GjBWLalC1TXnFY7M42yBOhJVy-VTt2oWCF8kv1rUw=s64",
      "userId": "07748152305612185938"
     },
     "user_tz": -330
    },
    "id": "J9hk5wHgLHsa",
    "outputId": "a95c2f6f-ec84-42a2-e311-ff2e857c3571"
   },
   "outputs": [
    {
     "data": {
      "text/plain": [
       "-11.682666304905968"
      ]
     },
     "execution_count": 10,
     "metadata": {
      "tags": []
     },
     "output_type": "execute_result"
    }
   ],
   "source": [
    "clf.intercept_"
   ]
  },
  {
   "cell_type": "code",
   "execution_count": null,
   "metadata": {
    "id": "jMLy28F0LRZ6"
   },
   "outputs": [],
   "source": [
    "arr1 = np.array(clf.coef_)\n",
    "arr2 = np.array(clf.intercept_)"
   ]
  },
  {
   "cell_type": "code",
   "execution_count": null,
   "metadata": {
    "colab": {
     "base_uri": "https://localhost:8080/"
    },
    "executionInfo": {
     "elapsed": 844,
     "status": "ok",
     "timestamp": 1615183299120,
     "user": {
      "displayName": "GOPAL JAIN",
      "photoUrl": "https://lh3.googleusercontent.com/a-/AOh14GjBWLalC1TXnFY7M42yBOhJVy-VTt2oWCF8kv1rUw=s64",
      "userId": "07748152305612185938"
     },
     "user_tz": -330
    },
    "id": "2XlVgvOCYJZZ",
    "outputId": "1c445677-f346-40f7-d7af-1d9f98cb84ea"
   },
   "outputs": [
    {
     "data": {
      "text/plain": [
       "array(-11.6826663)"
      ]
     },
     "execution_count": 12,
     "metadata": {
      "tags": []
     },
     "output_type": "execute_result"
    }
   ],
   "source": [
    "arr2"
   ]
  },
  {
   "cell_type": "code",
   "execution_count": null,
   "metadata": {
    "colab": {
     "base_uri": "https://localhost:8080/"
    },
    "executionInfo": {
     "elapsed": 1335,
     "status": "ok",
     "timestamp": 1615183049345,
     "user": {
      "displayName": "GOPAL JAIN",
      "photoUrl": "https://lh3.googleusercontent.com/a-/AOh14GjBWLalC1TXnFY7M42yBOhJVy-VTt2oWCF8kv1rUw=s64",
      "userId": "07748152305612185938"
     },
     "user_tz": -330
    },
    "id": "tqZmOuwUYz56",
    "outputId": "67028f8c-c122-49e5-b2ab-d2901effdfee"
   },
   "outputs": [
    {
     "data": {
      "text/plain": [
       "array([ 0.        ,  0.        , -0.31088362,  0.        ,  0.        ,\n",
       "        0.        ,  0.        ,  0.        ,  0.        ,  0.        ,\n",
       "        0.        ,  0.        ,  0.        ,  0.        ,  0.        ,\n",
       "        0.        ,  0.        ,  0.        ,  0.        ,  0.        ,\n",
       "        0.        ,  0.        ,  0.        ,  0.        ,  0.        ,\n",
       "        0.        ,  0.        ,  0.        ,  0.        ,  0.        ,\n",
       "        0.        ,  0.        , 11.51489416,  0.        ,  0.        ,\n",
       "        0.        ,  0.        ,  0.        ,  0.        ,  0.        ,\n",
       "        0.        ,  0.        ,  0.        ,  0.        ,  0.        ,\n",
       "        0.        ,  0.        ,  0.        ,  0.        ,  0.        ,\n",
       "        0.        ,  0.        ,  0.        ,  0.        ,  0.        ,\n",
       "        0.        ,  0.        ,  0.        ,  0.        ,  0.        ])"
      ]
     },
     "execution_count": 58,
     "metadata": {
      "tags": []
     },
     "output_type": "execute_result"
    }
   ],
   "source": [
    "clf.coef_"
   ]
  },
  {
   "cell_type": "code",
   "execution_count": null,
   "metadata": {
    "id": "d6WTtzWFY5hy"
   },
   "outputs": [],
   "source": [
    "arr = np.concatenate((arr1[:,None],arr2[None,None]))"
   ]
  },
  {
   "cell_type": "code",
   "execution_count": null,
   "metadata": {
    "id": "dL56jJEDaOH6"
   },
   "outputs": [],
   "source": [
    "arr = arr.T"
   ]
  },
  {
   "cell_type": "code",
   "execution_count": null,
   "metadata": {
    "colab": {
     "base_uri": "https://localhost:8080/"
    },
    "executionInfo": {
     "elapsed": 1100,
     "status": "ok",
     "timestamp": 1615183543702,
     "user": {
      "displayName": "GOPAL JAIN",
      "photoUrl": "https://lh3.googleusercontent.com/a-/AOh14GjBWLalC1TXnFY7M42yBOhJVy-VTt2oWCF8kv1rUw=s64",
      "userId": "07748152305612185938"
     },
     "user_tz": -330
    },
    "id": "TkmOUbB3b5Oa",
    "outputId": "744d3db7-6d02-4b9a-ab86-5754e58031ce"
   },
   "outputs": [
    {
     "data": {
      "text/plain": [
       "(1, 61)"
      ]
     },
     "execution_count": 25,
     "metadata": {
      "tags": []
     },
     "output_type": "execute_result"
    }
   ],
   "source": [
    "arr.shape"
   ]
  },
  {
   "cell_type": "code",
   "execution_count": null,
   "metadata": {
    "id": "LIZKKCbicCwR"
   },
   "outputs": [],
   "source": [
    "from sklearn.linear_model import ARDRegression\n",
    "from sklearn.model_selection import train_test_split\n",
    "X = Va.join(V, lsuffix='_Va', rsuffix='_V')\n",
    "Y = P\n",
    "X_train, X_test, Y_train, Y_test = train_test_split(X, Y, test_size=0.15, random_state=42)\n",
    "\n",
    "X_row,X_col = X_train.shape\n",
    "Y_row,Y_col = Y_train.shape\n",
    "    \n",
    "judge_Y = ~(pd.DataFrame.sum(Y_train, axis=0) == np.zeros(Y_col))\n",
    "    \n",
    "X_blr = np.zeros((Y_col,X_col+1))\n",
    "sigma_blr = np.zeros((Y_col,X_col))\n",
    "    \n",
    "for i in range(0,Y_col):\n",
    "    if judge_Y[i]:\n",
    "        y = Y_train.iloc[:,i]\n",
    "        clf = ARDRegression()\n",
    "        clf.threshold_lambda = 1000\n",
    "            \n",
    "        clf.fit(X_train, y)\n",
    "        coef = clf.coef_.T\n",
    "        X_blr[i, :] = np.hstack((coef,clf.intercept_))\n",
    "    \n",
    "Xp_temp = pd.DataFrame(X_blr)"
   ]
  },
  {
   "cell_type": "code",
   "execution_count": null,
   "metadata": {
    "colab": {
     "base_uri": "https://localhost:8080/"
    },
    "executionInfo": {
     "elapsed": 73875,
     "status": "ok",
     "timestamp": 1615194754646,
     "user": {
      "displayName": "GOPAL JAIN",
      "photoUrl": "https://lh3.googleusercontent.com/a-/AOh14GjBWLalC1TXnFY7M42yBOhJVy-VTt2oWCF8kv1rUw=s64",
      "userId": "07748152305612185938"
     },
     "user_tz": -330
    },
    "id": "BLbbQNXlw4Cw",
    "outputId": "69d59915-0cfd-4640-fbbe-c5dcb86ea55e"
   },
   "outputs": [
    {
     "data": {
      "text/plain": [
       "(30, 61)"
      ]
     },
     "execution_count": 5,
     "metadata": {
      "tags": []
     },
     "output_type": "execute_result"
    }
   ],
   "source": [
    "Xp_temp.shape"
   ]
  },
  {
   "cell_type": "code",
   "execution_count": null,
   "metadata": {
    "colab": {
     "base_uri": "https://localhost:8080/"
    },
    "executionInfo": {
     "elapsed": 73395,
     "status": "ok",
     "timestamp": 1615194754646,
     "user": {
      "displayName": "GOPAL JAIN",
      "photoUrl": "https://lh3.googleusercontent.com/a-/AOh14GjBWLalC1TXnFY7M42yBOhJVy-VTt2oWCF8kv1rUw=s64",
      "userId": "07748152305612185938"
     },
     "user_tz": -330
    },
    "id": "zCYf4eF5yAzY",
    "outputId": "c2a81e52-c89b-4c66-a396-1d1093949327"
   },
   "outputs": [
    {
     "data": {
      "text/plain": [
       "(75, 60)"
      ]
     },
     "execution_count": 6,
     "metadata": {
      "tags": []
     },
     "output_type": "execute_result"
    }
   ],
   "source": [
    "X_test.shape"
   ]
  },
  {
   "cell_type": "code",
   "execution_count": null,
   "metadata": {
    "id": "7naZ-pw4yTTP"
   },
   "outputs": [],
   "source": [
    "d = pd.DataFrame(np.ones((X_test.shape[0], 1)))"
   ]
  },
  {
   "cell_type": "code",
   "execution_count": null,
   "metadata": {
    "colab": {
     "base_uri": "https://localhost:8080/"
    },
    "executionInfo": {
     "elapsed": 70680,
     "status": "ok",
     "timestamp": 1615194754647,
     "user": {
      "displayName": "GOPAL JAIN",
      "photoUrl": "https://lh3.googleusercontent.com/a-/AOh14GjBWLalC1TXnFY7M42yBOhJVy-VTt2oWCF8kv1rUw=s64",
      "userId": "07748152305612185938"
     },
     "user_tz": -330
    },
    "id": "qPxO8iXoyyYx",
    "outputId": "3a2ca451-030f-4b40-fcda-874b33b506ea"
   },
   "outputs": [
    {
     "data": {
      "text/plain": [
       "(75, 1)"
      ]
     },
     "execution_count": 8,
     "metadata": {
      "tags": []
     },
     "output_type": "execute_result"
    }
   ],
   "source": [
    "d.shape"
   ]
  },
  {
   "cell_type": "code",
   "execution_count": null,
   "metadata": {
    "colab": {
     "base_uri": "https://localhost:8080/"
    },
    "executionInfo": {
     "elapsed": 70500,
     "status": "ok",
     "timestamp": 1615194754648,
     "user": {
      "displayName": "GOPAL JAIN",
      "photoUrl": "https://lh3.googleusercontent.com/a-/AOh14GjBWLalC1TXnFY7M42yBOhJVy-VTt2oWCF8kv1rUw=s64",
      "userId": "07748152305612185938"
     },
     "user_tz": -330
    },
    "id": "L-uyZt-NyzOw",
    "outputId": "9cc23858-592c-4efb-99c7-8448228a1bf1"
   },
   "outputs": [
    {
     "data": {
      "text/plain": [
       "(75, 60)"
      ]
     },
     "execution_count": 9,
     "metadata": {
      "tags": []
     },
     "output_type": "execute_result"
    }
   ],
   "source": [
    "X_test.shape"
   ]
  },
  {
   "cell_type": "code",
   "execution_count": null,
   "metadata": {
    "id": "xT4nxuNBzOJe"
   },
   "outputs": [],
   "source": [
    "one = X_test.to_numpy()\n",
    "two = d.to_numpy()\n",
    "temp = pd.DataFrame(np.column_stack((one,two)))"
   ]
  },
  {
   "cell_type": "code",
   "execution_count": null,
   "metadata": {
    "colab": {
     "base_uri": "https://localhost:8080/"
    },
    "executionInfo": {
     "elapsed": 70188,
     "status": "ok",
     "timestamp": 1615194754648,
     "user": {
      "displayName": "GOPAL JAIN",
      "photoUrl": "https://lh3.googleusercontent.com/a-/AOh14GjBWLalC1TXnFY7M42yBOhJVy-VTt2oWCF8kv1rUw=s64",
      "userId": "07748152305612185938"
     },
     "user_tz": -330
    },
    "id": "nmcaPRoSzbGQ",
    "outputId": "d140f4a8-4d0b-4155-a3a9-a3140995e3d1"
   },
   "outputs": [
    {
     "data": {
      "text/plain": [
       "(75, 61)"
      ]
     },
     "execution_count": 11,
     "metadata": {
      "tags": []
     },
     "output_type": "execute_result"
    }
   ],
   "source": [
    "temp.shape"
   ]
  },
  {
   "cell_type": "code",
   "execution_count": null,
   "metadata": {
    "id": "yefFiuwN0Uyo"
   },
   "outputs": [],
   "source": [
    "X_test = temp"
   ]
  },
  {
   "cell_type": "code",
   "execution_count": null,
   "metadata": {
    "colab": {
     "base_uri": "https://localhost:8080/"
    },
    "executionInfo": {
     "elapsed": 69499,
     "status": "ok",
     "timestamp": 1615194754649,
     "user": {
      "displayName": "GOPAL JAIN",
      "photoUrl": "https://lh3.googleusercontent.com/a-/AOh14GjBWLalC1TXnFY7M42yBOhJVy-VTt2oWCF8kv1rUw=s64",
      "userId": "07748152305612185938"
     },
     "user_tz": -330
    },
    "id": "oy-FLMXn069B",
    "outputId": "a49abfa1-b7f5-4bdc-beb8-d99784616564"
   },
   "outputs": [
    {
     "name": "stdout",
     "output_type": "stream",
     "text": [
      "75\n"
     ]
    }
   ],
   "source": [
    "print(X_test.shape[0])\n",
    "temp = pd.DataFrame(X_test.iloc[1,:])\n"
   ]
  },
  {
   "cell_type": "code",
   "execution_count": null,
   "metadata": {
    "id": "fjEAIODR2R5U"
   },
   "outputs": [],
   "source": [
    "y = Xp_temp.dot(temp)"
   ]
  },
  {
   "cell_type": "code",
   "execution_count": null,
   "metadata": {
    "colab": {
     "base_uri": "https://localhost:8080/",
     "height": 419
    },
    "executionInfo": {
     "elapsed": 67021,
     "status": "ok",
     "timestamp": 1615194754650,
     "user": {
      "displayName": "GOPAL JAIN",
      "photoUrl": "https://lh3.googleusercontent.com/a-/AOh14GjBWLalC1TXnFY7M42yBOhJVy-VTt2oWCF8kv1rUw=s64",
      "userId": "07748152305612185938"
     },
     "user_tz": -330
    },
    "id": "XRztJWrv1tVC",
    "outputId": "54ec7126-f182-44b5-ff4e-d13d03516469"
   },
   "outputs": [
    {
     "data": {
      "text/html": [
       "<div>\n",
       "<style scoped>\n",
       "    .dataframe tbody tr th:only-of-type {\n",
       "        vertical-align: middle;\n",
       "    }\n",
       "\n",
       "    .dataframe tbody tr th {\n",
       "        vertical-align: top;\n",
       "    }\n",
       "\n",
       "    .dataframe thead th {\n",
       "        text-align: right;\n",
       "    }\n",
       "</style>\n",
       "<table border=\"1\" class=\"dataframe\">\n",
       "  <thead>\n",
       "    <tr style=\"text-align: right;\">\n",
       "      <th></th>\n",
       "      <th>1</th>\n",
       "    </tr>\n",
       "  </thead>\n",
       "  <tbody>\n",
       "    <tr>\n",
       "      <th>0</th>\n",
       "      <td>0.000000</td>\n",
       "    </tr>\n",
       "    <tr>\n",
       "      <th>1</th>\n",
       "      <td>-0.524646</td>\n",
       "    </tr>\n",
       "    <tr>\n",
       "      <th>2</th>\n",
       "      <td>-1.801209</td>\n",
       "    </tr>\n",
       "    <tr>\n",
       "      <th>3</th>\n",
       "      <td>-2.119328</td>\n",
       "    </tr>\n",
       "    <tr>\n",
       "      <th>4</th>\n",
       "      <td>-2.221255</td>\n",
       "    </tr>\n",
       "    <tr>\n",
       "      <th>...</th>\n",
       "      <td>...</td>\n",
       "    </tr>\n",
       "    <tr>\n",
       "      <th>56</th>\n",
       "      <td>1.000000</td>\n",
       "    </tr>\n",
       "    <tr>\n",
       "      <th>57</th>\n",
       "      <td>0.988801</td>\n",
       "    </tr>\n",
       "    <tr>\n",
       "      <th>58</th>\n",
       "      <td>0.982682</td>\n",
       "    </tr>\n",
       "    <tr>\n",
       "      <th>59</th>\n",
       "      <td>0.970671</td>\n",
       "    </tr>\n",
       "    <tr>\n",
       "      <th>60</th>\n",
       "      <td>1.000000</td>\n",
       "    </tr>\n",
       "  </tbody>\n",
       "</table>\n",
       "<p>61 rows × 1 columns</p>\n",
       "</div>"
      ],
      "text/plain": [
       "           1\n",
       "0   0.000000\n",
       "1  -0.524646\n",
       "2  -1.801209\n",
       "3  -2.119328\n",
       "4  -2.221255\n",
       "..       ...\n",
       "56  1.000000\n",
       "57  0.988801\n",
       "58  0.982682\n",
       "59  0.970671\n",
       "60  1.000000\n",
       "\n",
       "[61 rows x 1 columns]"
      ]
     },
     "execution_count": 15,
     "metadata": {
      "tags": []
     },
     "output_type": "execute_result"
    }
   ],
   "source": [
    "pd.DataFrame(temp)"
   ]
  },
  {
   "cell_type": "code",
   "execution_count": null,
   "metadata": {
    "colab": {
     "base_uri": "https://localhost:8080/"
    },
    "executionInfo": {
     "elapsed": 1008,
     "status": "ok",
     "timestamp": 1615194839549,
     "user": {
      "displayName": "GOPAL JAIN",
      "photoUrl": "https://lh3.googleusercontent.com/a-/AOh14GjBWLalC1TXnFY7M42yBOhJVy-VTt2oWCF8kv1rUw=s64",
      "userId": "07748152305612185938"
     },
     "user_tz": -330
    },
    "id": "ROL6HI8s0rsf",
    "outputId": "2f5aeb4f-52d6-4d2a-bed0-8983840d9207"
   },
   "outputs": [
    {
     "data": {
      "text/plain": [
       "(1, 30)"
      ]
     },
     "execution_count": 21,
     "metadata": {
      "tags": []
     },
     "output_type": "execute_result"
    }
   ],
   "source": [
    "y = y.T\n",
    "y.shape"
   ]
  },
  {
   "cell_type": "code",
   "execution_count": null,
   "metadata": {
    "colab": {
     "base_uri": "https://localhost:8080/"
    },
    "executionInfo": {
     "elapsed": 1252,
     "status": "ok",
     "timestamp": 1615194872464,
     "user": {
      "displayName": "GOPAL JAIN",
      "photoUrl": "https://lh3.googleusercontent.com/a-/AOh14GjBWLalC1TXnFY7M42yBOhJVy-VTt2oWCF8kv1rUw=s64",
      "userId": "07748152305612185938"
     },
     "user_tz": -330
    },
    "id": "sx8tz-dvGwrf",
    "outputId": "d077f71b-2854-42aa-dd55-3aa111eeb25c"
   },
   "outputs": [
    {
     "data": {
      "text/plain": [
       "0     0.173195\n",
       "1     0.420586\n",
       "2    -0.028650\n",
       "3    -0.077603\n",
       "4     0.000000\n",
       "5     0.000000\n",
       "6    -0.241881\n",
       "7    -0.299143\n",
       "8     0.000000\n",
       "9    -0.047945\n",
       "10    0.000000\n",
       "11   -0.124105\n",
       "12    0.370285\n",
       "13   -0.055050\n",
       "14   -0.092903\n",
       "15   -0.031194\n",
       "16   -0.091936\n",
       "17   -0.027494\n",
       "18   -0.089957\n",
       "19   -0.026061\n",
       "20   -0.161349\n",
       "21    0.224562\n",
       "22    0.165383\n",
       "23   -0.078194\n",
       "24    0.000000\n",
       "25   -0.028464\n",
       "26    0.275852\n",
       "27    0.000000\n",
       "28   -0.024044\n",
       "29   -0.086641\n",
       "Name: 69, dtype: float64"
      ]
     },
     "execution_count": 23,
     "metadata": {
      "tags": []
     },
     "output_type": "execute_result"
    }
   ],
   "source": [
    "Y_train.iloc[2,:]"
   ]
  },
  {
   "cell_type": "code",
   "execution_count": null,
   "metadata": {
    "colab": {
     "base_uri": "https://localhost:8080/",
     "height": 979
    },
    "executionInfo": {
     "elapsed": 1130,
     "status": "ok",
     "timestamp": 1615194921724,
     "user": {
      "displayName": "GOPAL JAIN",
      "photoUrl": "https://lh3.googleusercontent.com/a-/AOh14GjBWLalC1TXnFY7M42yBOhJVy-VTt2oWCF8kv1rUw=s64",
      "userId": "07748152305612185938"
     },
     "user_tz": -330
    },
    "id": "WrsWVwwHHZ1m",
    "outputId": "bf0040a2-acc2-4ad9-9330-49e5e9f4c897"
   },
   "outputs": [
    {
     "data": {
      "text/html": [
       "<div>\n",
       "<style scoped>\n",
       "    .dataframe tbody tr th:only-of-type {\n",
       "        vertical-align: middle;\n",
       "    }\n",
       "\n",
       "    .dataframe tbody tr th {\n",
       "        vertical-align: top;\n",
       "    }\n",
       "\n",
       "    .dataframe thead th {\n",
       "        text-align: right;\n",
       "    }\n",
       "</style>\n",
       "<table border=\"1\" class=\"dataframe\">\n",
       "  <thead>\n",
       "    <tr style=\"text-align: right;\">\n",
       "      <th></th>\n",
       "      <th>74</th>\n",
       "    </tr>\n",
       "  </thead>\n",
       "  <tbody>\n",
       "    <tr>\n",
       "      <th>0</th>\n",
       "      <td>0.149064</td>\n",
       "    </tr>\n",
       "    <tr>\n",
       "      <th>1</th>\n",
       "      <td>0.405892</td>\n",
       "    </tr>\n",
       "    <tr>\n",
       "      <th>2</th>\n",
       "      <td>-0.023060</td>\n",
       "    </tr>\n",
       "    <tr>\n",
       "      <th>3</th>\n",
       "      <td>-0.075545</td>\n",
       "    </tr>\n",
       "    <tr>\n",
       "      <th>4</th>\n",
       "      <td>0.000000</td>\n",
       "    </tr>\n",
       "    <tr>\n",
       "      <th>5</th>\n",
       "      <td>0.000000</td>\n",
       "    </tr>\n",
       "    <tr>\n",
       "      <th>6</th>\n",
       "      <td>-0.205222</td>\n",
       "    </tr>\n",
       "    <tr>\n",
       "      <th>7</th>\n",
       "      <td>-0.295603</td>\n",
       "    </tr>\n",
       "    <tr>\n",
       "      <th>8</th>\n",
       "      <td>0.000000</td>\n",
       "    </tr>\n",
       "    <tr>\n",
       "      <th>9</th>\n",
       "      <td>-0.064419</td>\n",
       "    </tr>\n",
       "    <tr>\n",
       "      <th>10</th>\n",
       "      <td>0.000000</td>\n",
       "    </tr>\n",
       "    <tr>\n",
       "      <th>11</th>\n",
       "      <td>-0.118039</td>\n",
       "    </tr>\n",
       "    <tr>\n",
       "      <th>12</th>\n",
       "      <td>0.376583</td>\n",
       "    </tr>\n",
       "    <tr>\n",
       "      <th>13</th>\n",
       "      <td>-0.052047</td>\n",
       "    </tr>\n",
       "    <tr>\n",
       "      <th>14</th>\n",
       "      <td>-0.071703</td>\n",
       "    </tr>\n",
       "    <tr>\n",
       "      <th>15</th>\n",
       "      <td>-0.028702</td>\n",
       "    </tr>\n",
       "    <tr>\n",
       "      <th>16</th>\n",
       "      <td>-0.093003</td>\n",
       "    </tr>\n",
       "    <tr>\n",
       "      <th>17</th>\n",
       "      <td>-0.029032</td>\n",
       "    </tr>\n",
       "    <tr>\n",
       "      <th>18</th>\n",
       "      <td>-0.106290</td>\n",
       "    </tr>\n",
       "    <tr>\n",
       "      <th>19</th>\n",
       "      <td>-0.022622</td>\n",
       "    </tr>\n",
       "    <tr>\n",
       "      <th>20</th>\n",
       "      <td>-0.167343</td>\n",
       "    </tr>\n",
       "    <tr>\n",
       "      <th>21</th>\n",
       "      <td>0.224618</td>\n",
       "    </tr>\n",
       "    <tr>\n",
       "      <th>22</th>\n",
       "      <td>0.174877</td>\n",
       "    </tr>\n",
       "    <tr>\n",
       "      <th>23</th>\n",
       "      <td>-0.074589</td>\n",
       "    </tr>\n",
       "    <tr>\n",
       "      <th>24</th>\n",
       "      <td>0.000000</td>\n",
       "    </tr>\n",
       "    <tr>\n",
       "      <th>25</th>\n",
       "      <td>-0.046305</td>\n",
       "    </tr>\n",
       "    <tr>\n",
       "      <th>26</th>\n",
       "      <td>0.274178</td>\n",
       "    </tr>\n",
       "    <tr>\n",
       "      <th>27</th>\n",
       "      <td>0.000000</td>\n",
       "    </tr>\n",
       "    <tr>\n",
       "      <th>28</th>\n",
       "      <td>-0.021522</td>\n",
       "    </tr>\n",
       "    <tr>\n",
       "      <th>29</th>\n",
       "      <td>-0.099788</td>\n",
       "    </tr>\n",
       "  </tbody>\n",
       "</table>\n",
       "</div>"
      ],
      "text/plain": [
       "          74\n",
       "0   0.149064\n",
       "1   0.405892\n",
       "2  -0.023060\n",
       "3  -0.075545\n",
       "4   0.000000\n",
       "5   0.000000\n",
       "6  -0.205222\n",
       "7  -0.295603\n",
       "8   0.000000\n",
       "9  -0.064419\n",
       "10  0.000000\n",
       "11 -0.118039\n",
       "12  0.376583\n",
       "13 -0.052047\n",
       "14 -0.071703\n",
       "15 -0.028702\n",
       "16 -0.093003\n",
       "17 -0.029032\n",
       "18 -0.106290\n",
       "19 -0.022622\n",
       "20 -0.167343\n",
       "21  0.224618\n",
       "22  0.174877\n",
       "23 -0.074589\n",
       "24  0.000000\n",
       "25 -0.046305\n",
       "26  0.274178\n",
       "27  0.000000\n",
       "28 -0.021522\n",
       "29 -0.099788"
      ]
     },
     "execution_count": 27,
     "metadata": {
      "tags": []
     },
     "output_type": "execute_result"
    }
   ],
   "source": [
    "Xp_temp.dot(temp)"
   ]
  },
  {
   "cell_type": "code",
   "execution_count": null,
   "metadata": {
    "colab": {
     "base_uri": "https://localhost:8080/",
     "height": 231
    },
    "executionInfo": {
     "elapsed": 1051,
     "status": "error",
     "timestamp": 1615195979441,
     "user": {
      "displayName": "GOPAL JAIN",
      "photoUrl": "https://lh3.googleusercontent.com/a-/AOh14GjBWLalC1TXnFY7M42yBOhJVy-VTt2oWCF8kv1rUw=s64",
      "userId": "07748152305612185938"
     },
     "user_tz": -330
    },
    "id": "RpQNr5BRHgoG",
    "outputId": "1d40ce40-d6c5-4894-a007-0f461bdd74ae"
   },
   "outputs": [
    {
     "ename": "NameError",
     "evalue": "ignored",
     "output_type": "error",
     "traceback": [
      "\u001b[0;31m---------------------------------------------------------------------------\u001b[0m",
      "\u001b[0;31mNameError\u001b[0m                                 Traceback (most recent call last)",
      "\u001b[0;32m<ipython-input-49-e4f2f6f8f799>\u001b[0m in \u001b[0;36m<module>\u001b[0;34m()\u001b[0m\n\u001b[1;32m     18\u001b[0m         \u001b[0my\u001b[0m \u001b[0;34m=\u001b[0m \u001b[0mY\u001b[0m\u001b[0;34m.\u001b[0m\u001b[0miloc\u001b[0m\u001b[0;34m[\u001b[0m\u001b[0;34m:\u001b[0m\u001b[0;34m,\u001b[0m\u001b[0mi\u001b[0m\u001b[0;34m]\u001b[0m\u001b[0;34m\u001b[0m\u001b[0;34m\u001b[0m\u001b[0m\n\u001b[1;32m     19\u001b[0m         \u001b[0mclf\u001b[0m \u001b[0;34m=\u001b[0m \u001b[0mARDRegression\u001b[0m\u001b[0;34m(\u001b[0m\u001b[0;34m)\u001b[0m\u001b[0;34m\u001b[0m\u001b[0;34m\u001b[0m\u001b[0m\n\u001b[0;32m---> 20\u001b[0;31m         \u001b[0mclf\u001b[0m\u001b[0;34m.\u001b[0m\u001b[0mthreshold_lambda\u001b[0m \u001b[0;34m=\u001b[0m \u001b[0mthreshold\u001b[0m\u001b[0;34m\u001b[0m\u001b[0;34m\u001b[0m\u001b[0m\n\u001b[0m\u001b[1;32m     21\u001b[0m \u001b[0;34m\u001b[0m\u001b[0m\n\u001b[1;32m     22\u001b[0m         \u001b[0mclf\u001b[0m\u001b[0;34m.\u001b[0m\u001b[0mfit\u001b[0m\u001b[0;34m(\u001b[0m\u001b[0mX_train\u001b[0m\u001b[0;34m,\u001b[0m \u001b[0mY_train\u001b[0m\u001b[0;34m)\u001b[0m\u001b[0;34m\u001b[0m\u001b[0;34m\u001b[0m\u001b[0m\n",
      "\u001b[0;31mNameError\u001b[0m: name 'threshold' is not defined"
     ]
    }
   ],
   "source": [
    "# Finding P-error\n",
    "from sklearn.metrics import mean_absolute_error\n",
    "from sklearn.model_selection import train_test_split\n",
    "X = Va.join(V, lsuffix='_Va', rsuffix='_V')\n",
    "Y = P\n",
    "X_train, X_test, Y_train, Y_test = train_test_split(X, Y, test_size=0.15, random_state=42)\n",
    "\n",
    "X_row,X_col = X_train.shape\n",
    "Y_row,Y_col = Y_train.shape\n",
    "\n",
    "judge_Y = ~(pd.DataFrame.sum(Y, axis=0) == np.zeros(Y_col))\n",
    "\n",
    "X_blr = np.zeros((Y_col,X_col+1))\n",
    "sigma_blr = np.zeros((Y_col,X_col))\n",
    "\n",
    "for i in range(0,Y_col):\n",
    "    if judge_Y[i]:\n",
    "        y = Y.iloc[:,i]\n",
    "        clf = ARDRegression()\n",
    "        clf.threshold_lambda = threshold\n",
    "        \n",
    "        clf.fit(X_train, Y_train)\n",
    "        coef = clf.coef_.T\n",
    "        X_blr[i, :] = np.hstack((coef,clf.intercept_))\n",
    "\n",
    "Xp_temp = pd.DataFrame(X_blr)\n",
    "# Xp_temp = [30 x 61]\n",
    "# X = [61 x 1]\n",
    "# Y = [30 x 1]\n",
    "\n",
    "# Adding intercept to X_test\n",
    "one = X_test.to_numpy()\n",
    "d = pd.DataFrame(np.ones((X_test.shape[0], 1)))\n",
    "two = d.to_numpy()\n",
    "X_test = pd.DataFrame(np.column_stack((one,two)))\n",
    "\n",
    "# checkpoint\n",
    "error = np.zeros((X_test.shape[0]))\n",
    "for i in range(X_test.shape[0]):\n",
    "    x = pd.DataFrame(X_test.iloc[i,:])\n",
    "    y = Xp_temp.dot(x)\n",
    "    y_pred = Y_train.iloc[i,:]\n",
    "    curr = mean_absolute_error(y_pred, y)\n",
    "    error[i] = curr\n",
    "\n",
    "P_mape = error.mean()"
   ]
  },
  {
   "cell_type": "code",
   "execution_count": null,
   "metadata": {
    "id": "VIYCIVF7IhLj"
   },
   "outputs": [],
   "source": [
    "from sklearn.metrics import mean_absolute_error\n",
    "from sklearn.model_selection import train_test_split\n",
    "X = Va.join(V, lsuffix='_Va', rsuffix='_V')\n",
    "Y = P\n",
    "X_train, X_test, Y_train, Y_test = train_test_split(X, Y, test_size=0.15, random_state=42)\n",
    "\n",
    "X_row,X_col = X_train.shape\n",
    "Y_row,Y_col = Y_train.shape\n",
    "\n",
    "judge_Y = ~(pd.DataFrame.sum(Y_train, axis=0) == np.zeros(Y_col))\n",
    "\n",
    "X_blr = np.zeros((Y_col,X_col+1))\n",
    "sigma_blr = np.zeros((Y_col,X_col))\n",
    "\n",
    "for i in range(0,Y_col):\n",
    "    if judge_Y[i]:\n",
    "        y = Y_train.iloc[:,i]\n",
    "        clf = ARDRegression()\n",
    "        clf.threshold_lambda = 1000\n",
    "        \n",
    "        clf.fit(X_train, y)\n",
    "        coef = clf.coef_.T\n",
    "        X_blr[i, :] = np.hstack((coef,clf.intercept_))\n",
    "\n",
    "Xp_temp = pd.DataFrame(X_blr)\n",
    "# Xp_temp = [30 x 61]\n",
    "# X = [61 x 1]\n",
    "# Y = [30 x 1]\n",
    "\n",
    "# Adding intercept to X_test\n",
    "one = X_test.to_numpy()\n",
    "d = pd.DataFrame(np.ones((X_test.shape[0], 1)))\n",
    "two = d.to_numpy()\n",
    "X_test = pd.DataFrame(np.column_stack((one,two)))\n",
    "\n",
    "# checkpoint\n",
    "error = np.zeros((X_test.shape[0]))\n",
    "for i in range(X_test.shape[0]):\n",
    "    x = pd.DataFrame(X_test.iloc[i,:])\n",
    "    y = Xp_temp.dot(x)\n",
    "    y_pred = Y_train.iloc[i,:]\n",
    "    curr = mean_absolute_error(y_pred, y)\n",
    "    error[i] = curr\n",
    "\n",
    "P_mape = error.mean()"
   ]
  },
  {
   "cell_type": "code",
   "execution_count": null,
   "metadata": {
    "colab": {
     "base_uri": "https://localhost:8080/"
    },
    "executionInfo": {
     "elapsed": 1519,
     "status": "ok",
     "timestamp": 1615196140146,
     "user": {
      "displayName": "GOPAL JAIN",
      "photoUrl": "https://lh3.googleusercontent.com/a-/AOh14GjBWLalC1TXnFY7M42yBOhJVy-VTt2oWCF8kv1rUw=s64",
      "userId": "07748152305612185938"
     },
     "user_tz": -330
    },
    "id": "5rJ5fzlCJYUd",
    "outputId": "8540f34a-2b15-4172-882a-2c8a97bd1ebf"
   },
   "outputs": [
    {
     "data": {
      "text/plain": [
       "0.010867495620491765"
      ]
     },
     "execution_count": 52,
     "metadata": {
      "tags": []
     },
     "output_type": "execute_result"
    }
   ],
   "source": [
    "P_mape"
   ]
  },
  {
   "cell_type": "code",
   "execution_count": null,
   "metadata": {
    "colab": {
     "base_uri": "https://localhost:8080/"
    },
    "executionInfo": {
     "elapsed": 649,
     "status": "ok",
     "timestamp": 1615195599607,
     "user": {
      "displayName": "GOPAL JAIN",
      "photoUrl": "https://lh3.googleusercontent.com/a-/AOh14GjBWLalC1TXnFY7M42yBOhJVy-VTt2oWCF8kv1rUw=s64",
      "userId": "07748152305612185938"
     },
     "user_tz": -330
    },
    "id": "s9RDLBMfJsDu",
    "outputId": "c3eb4d36-5761-43e8-96ef-5bfa9112ebab"
   },
   "outputs": [
    {
     "data": {
      "text/plain": [
       "(62, 1)"
      ]
     },
     "execution_count": 41,
     "metadata": {
      "tags": []
     },
     "output_type": "execute_result"
    }
   ],
   "source": [
    "pd.DataFrame(X_test.iloc[0,:]).shape"
   ]
  },
  {
   "cell_type": "code",
   "execution_count": null,
   "metadata": {
    "colab": {
     "base_uri": "https://localhost:8080/"
    },
    "executionInfo": {
     "elapsed": 1137,
     "status": "ok",
     "timestamp": 1615195652138,
     "user": {
      "displayName": "GOPAL JAIN",
      "photoUrl": "https://lh3.googleusercontent.com/a-/AOh14GjBWLalC1TXnFY7M42yBOhJVy-VTt2oWCF8kv1rUw=s64",
      "userId": "07748152305612185938"
     },
     "user_tz": -330
    },
    "id": "p0Z0xXQVKO6W",
    "outputId": "ff526d76-2f77-4d96-b383-72ca4ea45dde"
   },
   "outputs": [
    {
     "data": {
      "text/plain": [
       "array([0., 0., 0., 0., 0., 0., 0., 0., 0., 0., 0., 0., 0., 0., 0., 0., 0.,\n",
       "       0., 0., 0., 0., 0., 0., 0., 0., 0., 0., 0., 0., 0., 0., 0., 0., 0.,\n",
       "       0., 0., 0., 0., 0., 0., 0., 0., 0., 0., 0., 0., 0., 0., 0., 0., 0.,\n",
       "       0., 0., 0., 0., 0., 0., 0., 0., 0., 0., 0., 0., 0., 0., 0., 0., 0.,\n",
       "       0., 0., 0., 0., 0., 0., 0.])"
      ]
     },
     "execution_count": 42,
     "metadata": {
      "tags": []
     },
     "output_type": "execute_result"
    }
   ],
   "source": [
    "error"
   ]
  },
  {
   "cell_type": "code",
   "execution_count": null,
   "metadata": {
    "colab": {
     "base_uri": "https://localhost:8080/"
    },
    "executionInfo": {
     "elapsed": 1130,
     "status": "ok",
     "timestamp": 1615195656121,
     "user": {
      "displayName": "GOPAL JAIN",
      "photoUrl": "https://lh3.googleusercontent.com/a-/AOh14GjBWLalC1TXnFY7M42yBOhJVy-VTt2oWCF8kv1rUw=s64",
      "userId": "07748152305612185938"
     },
     "user_tz": -330
    },
    "id": "cepiLcYPKbtO",
    "outputId": "822a5fb6-7f6d-4dfe-bc8c-5259e3fa9f7d"
   },
   "outputs": [
    {
     "data": {
      "text/plain": [
       "0.0"
      ]
     },
     "execution_count": 43,
     "metadata": {
      "tags": []
     },
     "output_type": "execute_result"
    }
   ],
   "source": [
    "error.mean()"
   ]
  },
  {
   "cell_type": "code",
   "execution_count": 4,
   "metadata": {
    "executionInfo": {
     "elapsed": 2111,
     "status": "ok",
     "timestamp": 1615267544123,
     "user": {
      "displayName": "GOPAL JAIN",
      "photoUrl": "https://lh3.googleusercontent.com/a-/AOh14GjBWLalC1TXnFY7M42yBOhJVy-VTt2oWCF8kv1rUw=s64",
      "userId": "07748152305612185938"
     },
     "user_tz": -330
    },
    "id": "gGeaKor4Kco0"
   },
   "outputs": [],
   "source": [
    "def BLR(P, Q, V, Va, num_train, num_bus):\n",
    "    import numpy as np\n",
    "    from sklearn.linear_model import ARDRegression\n",
    "    import pandas as pd\n",
    "    threshold = 1000\n",
    "    \n",
    "    # Finding Xp\n",
    "    X = Va.join(V, lsuffix='_Va', rsuffix='_V')\n",
    "    # Y = P.join(Q, lsuffix='_P', rsuffix='_Q')\n",
    "    Y = P\n",
    "    X_row,X_col = X.shape\n",
    "    Y_row,Y_col = Y.shape\n",
    "    \n",
    "    judge_Y = ~(pd.DataFrame.sum(Y, axis=0) == np.zeros(Y_col))\n",
    "    \n",
    "    X_blr = np.zeros((Y_col,X_col+1))\n",
    "    sigma_blr = np.zeros((Y_col,X_col))\n",
    "    \n",
    "    for i in range(0,Y_col):\n",
    "        if judge_Y[i]:\n",
    "            y = Y.iloc[:,i]\n",
    "            clf = ARDRegression()\n",
    "            clf.threshold_lambda = threshold\n",
    "            \n",
    "            clf.fit(X, y)\n",
    "            coef = clf.coef_.T\n",
    "            X_blr[i, :] = np.hstack((coef,clf.intercept_))\n",
    "    \n",
    "    Xp = pd.DataFrame(X_blr)\n",
    "\n",
    "    # Finding Xq\n",
    "    X = Va.join(V, lsuffix='_Va', rsuffix='_V')\n",
    "    # Y = P.join(Q, lsuffix='_P', rsuffix='_Q')\n",
    "    Y = Q\n",
    "    X_row,X_col = X.shape\n",
    "    Y_row,Y_col = Y.shape\n",
    "    \n",
    "    judge_Y = ~(pd.DataFrame.sum(Y, axis=0) == np.zeros(Y_col))\n",
    "    \n",
    "    X_blr = np.zeros((Y_col,X_col+1))\n",
    "    sigma_blr = np.zeros((Y_col,X_col))\n",
    "    \n",
    "    for i in range(0,Y_col):\n",
    "        if judge_Y[i]:\n",
    "            y = Y.iloc[:,i]\n",
    "            clf = ARDRegression()\n",
    "            clf.threshold_lambda = threshold\n",
    "            \n",
    "            clf.fit(X, y)\n",
    "            coef = clf.coef_.T\n",
    "            X_blr[i, :] = np.hstack((coef,clf.intercept_))\n",
    "    \n",
    "    Xq = pd.DataFrame(X_blr)\n",
    "\n",
    "    # Finding Xv\n",
    "    X = P.join(Q, lsuffix='_P', rsuffix='_Q')\n",
    "    # Y = Va.join(V, lsuffix='_Va', rsuffix='_V')\n",
    "    Y = V\n",
    "    X_row,X_col = X.shape\n",
    "    Y_row,Y_col = Y.shape\n",
    "    \n",
    "    judge_Y = ~(pd.DataFrame.sum(Y, axis=0) == np.zeros(Y_col))\n",
    "    \n",
    "    X_blr = np.zeros((Y_col,X_col+1))\n",
    "    sigma_blr = np.zeros((Y_col,X_col))\n",
    "    \n",
    "    for i in range(0,Y_col):\n",
    "        if judge_Y[i]:\n",
    "            y = Y.iloc[:,i]\n",
    "            clf = ARDRegression()\n",
    "            clf.threshold_lambda = threshold\n",
    "            \n",
    "            clf.fit(X, y)\n",
    "            coef = clf.coef_.T\n",
    "            X_blr[i, :] = np.hstack((coef,clf.intercept_))\n",
    "    \n",
    "    Xv = pd.DataFrame(X_blr)\n",
    "\n",
    "    # Finding Xva\n",
    "    X = P.join(Q, lsuffix='_P', rsuffix='_Q')\n",
    "    # Y = Va.join(V, lsuffix='_Va', rsuffix='_V')\n",
    "    Y = Va\n",
    "    X_row,X_col = X.shape\n",
    "    Y_row,Y_col = Y.shape\n",
    "    \n",
    "    judge_Y = ~(pd.DataFrame.sum(Y, axis=0) == np.zeros(Y_col))\n",
    "    \n",
    "    X_blr = np.zeros((Y_col,X_col+1))\n",
    "    sigma_blr = np.zeros((Y_col,X_col))\n",
    "    \n",
    "    for i in range(0,Y_col):\n",
    "        if judge_Y[i]:\n",
    "            y = Y.iloc[:,i]\n",
    "            clf = ARDRegression()\n",
    "            clf.threshold_lambda = 1000\n",
    "            \n",
    "            clf.fit(X, y)\n",
    "            coef = clf.coef_.T\n",
    "            X_blr[i, :] = np.hstack((coef,clf.intercept_))\n",
    "    \n",
    "    Xva = pd.DataFrame(X_blr)\n",
    "\n",
    "    # Finding P-error - Remove errors from above\n",
    "    from sklearn.metrics import mean_absolute_percentage_error\n",
    "    from sklearn.metrics import mean_absolute_error\n",
    "    from sklearn.model_selection import train_test_split\n",
    "    X = Va.join(V, lsuffix='_Va', rsuffix='_V')\n",
    "    Y = P\n",
    "    X_train, X_test, Y_train, Y_test = train_test_split(X, Y, test_size=0.15, random_state=42)\n",
    "\n",
    "    X_row,X_col = X_train.shape\n",
    "    Y_row,Y_col = Y_train.shape\n",
    "    \n",
    "    judge_Y = ~(pd.DataFrame.sum(Y_train, axis=0) == np.zeros(Y_col))\n",
    "    \n",
    "    X_blr = np.zeros((Y_col,X_col+1))\n",
    "    sigma_blr = np.zeros((Y_col,X_col))\n",
    "    \n",
    "    for i in range(0,Y_col):\n",
    "        if judge_Y[i]:\n",
    "            y = Y_train.iloc[:,i]\n",
    "            clf = ARDRegression()\n",
    "            clf.threshold_lambda = 1000\n",
    "            \n",
    "            clf.fit(X_train, y)\n",
    "            coef = clf.coef_.T\n",
    "            X_blr[i, :] = np.hstack((coef,clf.intercept_))\n",
    "    \n",
    "    Xp_temp = pd.DataFrame(X_blr)\n",
    "    # Xp_temp = [30 x 61]\n",
    "    # X = [61 x 1]\n",
    "    # Y = [30 x 1]\n",
    "    \n",
    "    # Adding intercept to X_test\n",
    "    one = X_test.to_numpy()\n",
    "    d = pd.DataFrame(np.ones((X_test.shape[0], 1)))\n",
    "    two = d.to_numpy()\n",
    "    X_test = pd.DataFrame(np.column_stack((one,two)))\n",
    "\n",
    "    # checkpoint\n",
    "    error = np.zeros((X_test.shape[0]))\n",
    "    for i in range(X_test.shape[0]):\n",
    "        x = pd.DataFrame(X_test.iloc[i,:])\n",
    "        y = Xp_temp.dot(x)\n",
    "        y_pred = Y_train.iloc[i,:]\n",
    "        curr = mean_absolute_percentage_error(y_pred, y)\n",
    "        error[i] = curr\n",
    "    \n",
    "    P_mape = error.mean()\n",
    "    \n",
    "    # Finding Q error\n",
    "    X = Va.join(V, lsuffix='_Va', rsuffix='_V')\n",
    "    Y = Q\n",
    "    X_train, X_test, Y_train, Y_test = train_test_split(X, Y, test_size=0.15, random_state=42)\n",
    "\n",
    "    X_row,X_col = X_train.shape\n",
    "    Y_row,Y_col = Y_train.shape\n",
    "    \n",
    "    judge_Y = ~(pd.DataFrame.sum(Y_train, axis=0) == np.zeros(Y_col))\n",
    "    \n",
    "    X_blr = np.zeros((Y_col,X_col+1))\n",
    "    sigma_blr = np.zeros((Y_col,X_col))\n",
    "    \n",
    "    for i in range(0,Y_col):\n",
    "        if judge_Y[i]:\n",
    "            y = Y_train.iloc[:,i]\n",
    "            clf = ARDRegression()\n",
    "            clf.threshold_lambda = 1000\n",
    "            \n",
    "            clf.fit(X_train, y)\n",
    "            coef = clf.coef_.T\n",
    "            X_blr[i, :] = np.hstack((coef,clf.intercept_))\n",
    "    \n",
    "    Xq_temp = pd.DataFrame(X_blr)\n",
    "    # Xp_temp = [30 x 61]\n",
    "    # X = [61 x 1]\n",
    "    # Y = [30 x 1]\n",
    "    \n",
    "    # Adding intercept to X_test\n",
    "    one = X_test.to_numpy()\n",
    "    d = pd.DataFrame(np.ones((X_test.shape[0], 1)))\n",
    "    two = d.to_numpy()\n",
    "    X_test = pd.DataFrame(np.column_stack((one,two)))\n",
    "\n",
    "    # checkpoint\n",
    "    error = np.zeros((X_test.shape[0]))\n",
    "    for i in range(X_test.shape[0]):\n",
    "        x = pd.DataFrame(X_test.iloc[i,:])\n",
    "        y = Xq_temp.dot(x)\n",
    "        y_pred = Y_train.iloc[i,:]\n",
    "        curr = mean_absolute_percentage_error(y_pred, y)\n",
    "        error[i] = curr\n",
    "    \n",
    "    Q_mape = error.mean()\n",
    "    \n",
    "    # Finding V_error\n",
    "    X = P.join(Q, lsuffix='_P', rsuffix='_Q')\n",
    "    Y = V\n",
    "    X_train, X_test, Y_train, Y_test = train_test_split(X, Y, test_size=0.15, random_state=42)\n",
    "\n",
    "    X_row,X_col = X_train.shape\n",
    "    Y_row,Y_col = Y_train.shape\n",
    "    \n",
    "    judge_Y = ~(pd.DataFrame.sum(Y_train, axis=0) == np.zeros(Y_col))\n",
    "    \n",
    "    X_blr = np.zeros((Y_col,X_col+1))\n",
    "    sigma_blr = np.zeros((Y_col,X_col))\n",
    "    \n",
    "    for i in range(0,Y_col):\n",
    "        if judge_Y[i]:\n",
    "            y = Y_train.iloc[:,i]\n",
    "            clf = ARDRegression()\n",
    "            clf.threshold_lambda = 1000\n",
    "            \n",
    "            clf.fit(X_train, y)\n",
    "            coef = clf.coef_.T\n",
    "            X_blr[i, :] = np.hstack((coef,clf.intercept_))\n",
    "    \n",
    "    Xv_temp = pd.DataFrame(X_blr)\n",
    "    # Xp_temp = [30 x 61]\n",
    "    # X = [61 x 1]\n",
    "    # Y = [30 x 1]\n",
    "    \n",
    "    # Adding intercept to X_test\n",
    "    one = X_test.to_numpy()\n",
    "    d = pd.DataFrame(np.ones((X_test.shape[0], 1)))\n",
    "    two = d.to_numpy()\n",
    "    X_test = pd.DataFrame(np.column_stack((one,two)))\n",
    "\n",
    "    # checkpoint\n",
    "    error = np.zeros((X_test.shape[0]))\n",
    "    for i in range(X_test.shape[0]):\n",
    "        x = pd.DataFrame(X_test.iloc[i,:])\n",
    "        y = Xv_temp.dot(x)\n",
    "        y_pred = Y_train.iloc[i,:]\n",
    "        curr = mean_absolute_error(y_pred, y)\n",
    "        error[i] = curr\n",
    "    \n",
    "    V_mae = error.mean()\n",
    "    \n",
    "    # Finding Va error\n",
    "    X = P.join(Q, lsuffix='_P', rsuffix='_Q')\n",
    "    Y = Va\n",
    "    X_train, X_test, Y_train, Y_test = train_test_split(X, Y, test_size=0.15, random_state=42)\n",
    "\n",
    "    X_row,X_col = X_train.shape\n",
    "    Y_row,Y_col = Y_train.shape\n",
    "    \n",
    "    judge_Y = ~(pd.DataFrame.sum(Y_train, axis=0) == np.zeros(Y_col))\n",
    "    \n",
    "    X_blr = np.zeros((Y_col,X_col+1))\n",
    "    sigma_blr = np.zeros((Y_col,X_col))\n",
    "    \n",
    "    for i in range(0,Y_col):\n",
    "        if judge_Y[i]:\n",
    "            y = Y_train.iloc[:,i]\n",
    "            clf = ARDRegression()\n",
    "            clf.threshold_lambda = 1000\n",
    "            \n",
    "            clf.fit(X_train, y)\n",
    "            coef = clf.coef_.T\n",
    "            X_blr[i, :] = np.hstack((coef,clf.intercept_))\n",
    "    \n",
    "    Xva_temp = pd.DataFrame(X_blr)\n",
    "    # Xp_temp = [30 x 61]\n",
    "    # X = [61 x 1]\n",
    "    # Y = [30 x 1]\n",
    "    \n",
    "    # Adding intercept to X_test\n",
    "    one = X_test.to_numpy()\n",
    "    d = pd.DataFrame(np.ones((X_test.shape[0], 1)))\n",
    "    two = d.to_numpy()\n",
    "    X_test = pd.DataFrame(np.column_stack((one,two)))\n",
    "\n",
    "    # checkpoint\n",
    "    error = np.zeros((X_test.shape[0]))\n",
    "    for i in range(X_test.shape[0]):\n",
    "        x = pd.DataFrame(X_test.iloc[i,:])\n",
    "        y = Xva_temp.dot(x)\n",
    "        y_pred = Y_train.iloc[i,:]\n",
    "        curr = mean_absolute_error(y_pred, y)\n",
    "        error[i] = curr\n",
    "    \n",
    "    Va_mae = error.mean()\n",
    "\n",
    "\n",
    "    return [Xp, Xq, Xv, Xva, P_mape, Q_mape, V_mae, Va_mae];"
   ]
  },
  {
   "cell_type": "code",
   "execution_count": 5,
   "metadata": {
    "colab": {
     "base_uri": "https://localhost:8080/",
     "height": 418
    },
    "executionInfo": {
     "elapsed": 900068,
     "status": "error",
     "timestamp": 1615268478351,
     "user": {
      "displayName": "GOPAL JAIN",
      "photoUrl": "https://lh3.googleusercontent.com/a-/AOh14GjBWLalC1TXnFY7M42yBOhJVy-VTt2oWCF8kv1rUw=s64",
      "userId": "07748152305612185938"
     },
     "user_tz": -330
    },
    "id": "7F2JkCB9crO1",
    "outputId": "dc4ba741-0541-49e2-b6f3-44921f1399f5"
   },
   "outputs": [
    {
     "ename": "ImportError",
     "evalue": "ignored",
     "output_type": "error",
     "traceback": [
      "\u001b[0;31m---------------------------------------------------------------------------\u001b[0m",
      "\u001b[0;31mImportError\u001b[0m                               Traceback (most recent call last)",
      "\u001b[0;32m<ipython-input-5-6cabcf0b29c6>\u001b[0m in \u001b[0;36m<module>\u001b[0;34m()\u001b[0m\n\u001b[0;32m----> 1\u001b[0;31m \u001b[0;34m[\u001b[0m\u001b[0mXp\u001b[0m\u001b[0;34m,\u001b[0m \u001b[0mXq\u001b[0m\u001b[0;34m,\u001b[0m \u001b[0mXv\u001b[0m\u001b[0;34m,\u001b[0m \u001b[0mXva\u001b[0m\u001b[0;34m,\u001b[0m \u001b[0mP_mape\u001b[0m\u001b[0;34m,\u001b[0m \u001b[0mQ_mape\u001b[0m\u001b[0;34m,\u001b[0m \u001b[0mV_mae\u001b[0m\u001b[0;34m,\u001b[0m \u001b[0mVa_mae\u001b[0m\u001b[0;34m]\u001b[0m \u001b[0;34m=\u001b[0m \u001b[0mBLR\u001b[0m\u001b[0;34m(\u001b[0m\u001b[0mP\u001b[0m\u001b[0;34m,\u001b[0m \u001b[0mQ\u001b[0m\u001b[0;34m,\u001b[0m \u001b[0mV\u001b[0m\u001b[0;34m,\u001b[0m \u001b[0mVa\u001b[0m\u001b[0;34m,\u001b[0m \u001b[0;36m500\u001b[0m\u001b[0;34m,\u001b[0m \u001b[0;36m30\u001b[0m\u001b[0;34m)\u001b[0m\u001b[0;34m;\u001b[0m\u001b[0;34m\u001b[0m\u001b[0;34m\u001b[0m\u001b[0m\n\u001b[0m",
      "\u001b[0;32m<ipython-input-4-924a70698e04>\u001b[0m in \u001b[0;36mBLR\u001b[0;34m(P, Q, V, Va, num_train, num_bus)\u001b[0m\n\u001b[1;32m    102\u001b[0m \u001b[0;34m\u001b[0m\u001b[0m\n\u001b[1;32m    103\u001b[0m     \u001b[0;31m# Finding P-error - Remove errors from above\u001b[0m\u001b[0;34m\u001b[0m\u001b[0;34m\u001b[0m\u001b[0;34m\u001b[0m\u001b[0m\n\u001b[0;32m--> 104\u001b[0;31m     \u001b[0;32mfrom\u001b[0m \u001b[0msklearn\u001b[0m\u001b[0;34m.\u001b[0m\u001b[0mmetrics\u001b[0m \u001b[0;32mimport\u001b[0m \u001b[0mmean_absolute_percentage_error\u001b[0m\u001b[0;34m\u001b[0m\u001b[0;34m\u001b[0m\u001b[0m\n\u001b[0m\u001b[1;32m    105\u001b[0m     \u001b[0;32mfrom\u001b[0m \u001b[0msklearn\u001b[0m\u001b[0;34m.\u001b[0m\u001b[0mmetrics\u001b[0m \u001b[0;32mimport\u001b[0m \u001b[0mmean_absolute_error\u001b[0m\u001b[0;34m\u001b[0m\u001b[0;34m\u001b[0m\u001b[0m\n\u001b[1;32m    106\u001b[0m     \u001b[0;32mfrom\u001b[0m \u001b[0msklearn\u001b[0m\u001b[0;34m.\u001b[0m\u001b[0mmodel_selection\u001b[0m \u001b[0;32mimport\u001b[0m \u001b[0mtrain_test_split\u001b[0m\u001b[0;34m\u001b[0m\u001b[0;34m\u001b[0m\u001b[0m\n",
      "\u001b[0;31mImportError\u001b[0m: cannot import name 'mean_absolute_percentage_error' from 'sklearn.metrics' (/usr/local/lib/python3.7/dist-packages/sklearn/metrics/__init__.py)",
      "",
      "\u001b[0;31m---------------------------------------------------------------------------\u001b[0;32m\nNOTE: If your import is failing due to a missing package, you can\nmanually install dependencies using either !pip or !apt.\n\nTo view examples of installing some common dependencies, click the\n\"Open Examples\" button below.\n\u001b[0;31m---------------------------------------------------------------------------\u001b[0m\n"
     ]
    }
   ],
   "source": [
    "[Xp, Xq, Xv, Xva, P_mape, Q_mape, V_mae, Va_mae] = BLR(P, Q, V, Va, 500, 30);"
   ]
  },
  {
   "cell_type": "code",
   "execution_count": null,
   "metadata": {
    "id": "BGDmGB97c0F7"
   },
   "outputs": [],
   "source": []
  }
 ],
 "metadata": {
  "accelerator": "GPU",
  "colab": {
   "authorship_tag": "ABX9TyNt3QXCxe53Ymrkfgk098nA",
   "collapsed_sections": [],
   "name": "random_experiments.ipynb",
   "provenance": []
  },
  "kernelspec": {
   "display_name": "Python 3",
   "language": "python",
   "name": "python3"
  },
  "language_info": {
   "codemirror_mode": {
    "name": "ipython",
    "version": 3
   },
   "file_extension": ".py",
   "mimetype": "text/x-python",
   "name": "python",
   "nbconvert_exporter": "python",
   "pygments_lexer": "ipython3",
   "version": "3.8.3"
  }
 },
 "nbformat": 4,
 "nbformat_minor": 1
}
